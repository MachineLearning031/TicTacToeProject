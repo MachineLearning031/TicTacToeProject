{
 "cells": [
  {
   "cell_type": "markdown",
   "metadata": {},
   "source": [
    "Main Problem  -Create Tic-Tac-Toe\n",
    "Divide the main problem into small problems\n",
    "\n"
   ]
  },
  {
   "cell_type": "code",
   "execution_count": 1,
   "metadata": {},
   "outputs": [],
   "source": [
    "#1. create display board \n",
    "from IPython.display import clear_output\n",
    "def display_board(t):\n",
    "    clear_output()\n",
    "    print(t[7] ,\"|\" ,t[8] ,\"|\" ,t[9])\n",
    "    print(t[4] ,\"|\" ,t[5] ,\"|\" ,t[6])\n",
    "    print(t[1] ,\"|\" ,t[2] ,\"|\" ,t[3])"
   ]
  },
  {
   "cell_type": "code",
   "execution_count": 2,
   "metadata": {},
   "outputs": [
    {
     "name": "stdout",
     "output_type": "stream",
     "text": [
      "7 | 8 | 9\n",
      "4 | 5 | 6\n",
      "1 | 2 | 3\n"
     ]
    }
   ],
   "source": [
    "t = list(range(0, 10))\n",
    "#print(t)\n",
    "display_board(t)"
   ]
  },
  {
   "cell_type": "code",
   "execution_count": 3,
   "metadata": {},
   "outputs": [],
   "source": [
    "#2. Take i/p from user (X or O)\n",
    "def player_input():\n",
    "   \n",
    "    marker =\" \"\n",
    "    while not(marker == 'X' or marker == 'O'):\n",
    "        marker = input(\"Player1 : Do you want to be O or X\").upper()\n",
    "    \n",
    "    \n",
    "    if marker == 'X':\n",
    "        return ('X' ,'O')\n",
    "    else:\n",
    "        return('O' ,'X')"
   ]
  },
  {
   "cell_type": "code",
   "execution_count": 4,
   "metadata": {},
   "outputs": [
    {
     "name": "stdout",
     "output_type": "stream",
     "text": [
      "Player1 : Do you want to be O or X\n",
      "Player1 : Do you want to be O or X\n",
      "Player1 : Do you want to be O or X\n",
      "Player1 : Do you want to be O or Xx\n",
      "X\n",
      "O\n"
     ]
    }
   ],
   "source": [
    "p1 ,p2 = player_input()\n",
    "print(p1)\n",
    "print(p2)\n"
   ]
  },
  {
   "cell_type": "code",
   "execution_count": 3,
   "metadata": {},
   "outputs": [],
   "source": [
    "#3. Who is going to have the first turn\n",
    "\n",
    "import random\n",
    "\n",
    "def choose_first():\n",
    "    if random.randint(0,1) == 1:\n",
    "        return 'Player 2'\n",
    "    else:\n",
    "        return 'Player 1'"
   ]
  },
  {
   "cell_type": "code",
   "execution_count": 4,
   "metadata": {},
   "outputs": [],
   "source": [
    "#4 Fill user value on the board\n",
    "def place_marker(board , marker ,position):\n",
    "    board[position] = marker"
   ]
  },
  {
   "cell_type": "code",
   "execution_count": null,
   "metadata": {},
   "outputs": [],
   "source": [
    "display_board(t)\n",
    "print(\"\\n\")\n",
    "place_marker(t, '@',2 )\n",
    "display_board(t)"
   ]
  },
  {
   "cell_type": "code",
   "execution_count": 5,
   "metadata": {},
   "outputs": [],
   "source": [
    "#5 if position is empty\n",
    "def space_check(board, position):\n",
    "    return board[position]  == ' '"
   ]
  },
  {
   "cell_type": "code",
   "execution_count": 6,
   "metadata": {},
   "outputs": [],
   "source": [
    "#6Win_check\n",
    "def win_check(board, mark):\n",
    "    return((board[7] == mark and board[8] == mark and board[9] == mark)  or #across the top\n",
    "           (board[4] == mark and board[5] == mark and board[6] == mark) or #across the middle\n",
    "           (board[1] == mark and board[2] == mark and board[3] == mark) or #across the bottom\n",
    "           (board[7] == mark and board[4] == mark and board[1] == mark) or #down the left\n",
    "           (board[8] == mark and board[5] == mark and board[2] == mark) or #down the middle\n",
    "           (board[9] == mark and board[6] == mark and board[3] == mark) or #down the right\n",
    "           (board[7] == mark and board[5] == mark and board[3] == mark) or #diagonal 1\n",
    "           (board[9] == mark and board[5] == mark and board[1] == mark) #diagoanl 2\n",
    "           \n",
    "     )"
   ]
  },
  {
   "cell_type": "code",
   "execution_count": null,
   "metadata": {},
   "outputs": [],
   "source": [
    "win_check(t, marker)\n",
    "\n",
    "board == t\n",
    "marker ==mark"
   ]
  },
  {
   "cell_type": "code",
   "execution_count": 7,
   "metadata": {},
   "outputs": [],
   "source": [
    "#7 the board is full\n",
    "def full_board_check(board):\n",
    "    for i in range(1,10):\n",
    "        if space_check(board ,i):\n",
    "            return False\n",
    "    return True"
   ]
  },
  {
   "cell_type": "code",
   "execution_count": 8,
   "metadata": {},
   "outputs": [],
   "source": [
    "#8 Ask the user if they want to replay\n",
    "def replay():\n",
    "    return input(\"Do you want to play it again(Yes or No)\").lower().startwith('y')"
   ]
  },
  {
   "cell_type": "code",
   "execution_count": 9,
   "metadata": {},
   "outputs": [],
   "source": [
    "#9 Take input from user\n",
    "def player_choice(board):\n",
    "    position = 0\n",
    "    \n",
    "    while position not in [1,2,3,4,5,6,7,8,9] or not space_check(board, position):\n",
    "        position = int(input(\"Choose your next position(1-9)\"))\n",
    "    return position\n"
   ]
  },
  {
   "cell_type": "code",
   "execution_count": 11,
   "metadata": {},
   "outputs": [
    {
     "name": "stdout",
     "output_type": "stream",
     "text": [
      "Choose your next position(1-9)3\n"
     ]
    },
    {
     "data": {
      "text/plain": [
       "3"
      ]
     },
     "execution_count": 11,
     "metadata": {},
     "output_type": "execute_result"
    }
   ],
   "source": [
    "t = [\" \"]*10\n",
    "player_choice(t)"
   ]
  },
  {
   "cell_type": "code",
   "execution_count": 5,
   "metadata": {},
   "outputs": [
    {
     "name": "stdout",
     "output_type": "stream",
     "text": [
      "Welcome!!!\n",
      "Player1 : Do you want to be O or XX\n"
     ]
    },
    {
     "ename": "NameError",
     "evalue": "name 'choose_first' is not defined",
     "output_type": "error",
     "traceback": [
      "\u001b[1;31m---------------------------------------------------------------------------\u001b[0m",
      "\u001b[1;31mNameError\u001b[0m                                 Traceback (most recent call last)",
      "\u001b[1;32m<ipython-input-5-e42ac758b26f>\u001b[0m in \u001b[0;36m<module>\u001b[1;34m\u001b[0m\n\u001b[0;32m      6\u001b[0m     \u001b[0mtheBoard\u001b[0m \u001b[1;33m=\u001b[0m \u001b[1;33m[\u001b[0m\u001b[1;34m\" \"\u001b[0m\u001b[1;33m]\u001b[0m\u001b[1;33m*\u001b[0m\u001b[1;36m10\u001b[0m\u001b[1;33m\u001b[0m\u001b[1;33m\u001b[0m\u001b[0m\n\u001b[0;32m      7\u001b[0m     \u001b[0mplayer1_marker\u001b[0m\u001b[1;33m,\u001b[0m \u001b[0mplayer2_marker\u001b[0m \u001b[1;33m=\u001b[0m\u001b[0mplayer_input\u001b[0m\u001b[1;33m(\u001b[0m\u001b[1;33m)\u001b[0m\u001b[1;33m\u001b[0m\u001b[1;33m\u001b[0m\u001b[0m\n\u001b[1;32m----> 8\u001b[1;33m     \u001b[0mturn\u001b[0m \u001b[1;33m=\u001b[0m \u001b[0mchoose_first\u001b[0m\u001b[1;33m(\u001b[0m\u001b[1;33m)\u001b[0m\u001b[1;33m\u001b[0m\u001b[1;33m\u001b[0m\u001b[0m\n\u001b[0m\u001b[0;32m      9\u001b[0m     \u001b[0mprint\u001b[0m\u001b[1;33m(\u001b[0m\u001b[0mturn\u001b[0m \u001b[1;33m+\u001b[0m \u001b[1;34m\" will go first\"\u001b[0m\u001b[1;33m)\u001b[0m\u001b[1;33m\u001b[0m\u001b[1;33m\u001b[0m\u001b[0m\n\u001b[0;32m     10\u001b[0m \u001b[1;33m\u001b[0m\u001b[0m\n",
      "\u001b[1;31mNameError\u001b[0m: name 'choose_first' is not defined"
     ]
    }
   ],
   "source": [
    "#10 Compile all\n",
    "print(\"Welcome!!!\")\n",
    "\n",
    "while True:\n",
    "    #Reset the board\n",
    "    theBoard = [\" \"]*10\n",
    "    player1_marker, player2_marker =player_input()\n",
    "    turn = choose_first()\n",
    "    print(turn + \" will go first\")\n",
    "    \n",
    "    play_game = input(\"Are you ready to play .Press yes or no\")\n",
    "    \n",
    "    if play_game.lower()[0] == 'y':\n",
    "        game_on = True\n",
    "    \n",
    "    else:\n",
    "        game_on = False\n",
    "        \n",
    "    while game_on:\n",
    "        if turn == 'Player 1':\n",
    "            \n",
    "            display_board(theBoard)\n",
    "            position = player_choice(theBoard)\n",
    "            place_marker(theBoard ,player1_marker ,position)\n",
    "            \n",
    "            if win_check(theBoard , player1_marker):\n",
    "                display_board(theBoard)\n",
    "                print(\"Congratulation!! Player 1 won the game\")\n",
    "                game_on = False\n",
    "                \n",
    "            else:\n",
    "                if full_board_check(theBoard):\n",
    "                    display_board(theBoard)\n",
    "                    print(\"The game is draw!!\")\n",
    "                    break\n",
    "                else:\n",
    "                    turn = 'Player 2'\n",
    "                    \n",
    "        else:\n",
    "            #Player 2 turn\n",
    "            display_board(theBoard)\n",
    "            position = player_choice(theBoard)\n",
    "            place_marker(theBoard ,player2_marker ,position)\n",
    "            \n",
    "            if win_check(theBoard , player2_marker):\n",
    "                display_board(theBoard)\n",
    "                print(\"Congratulation!! Player 2 won the game\")\n",
    "                game_on = False\n",
    "                \n",
    "            else:\n",
    "                if full_board_check(theBoard):\n",
    "                    display_board(theBoard)\n",
    "                    print(\"The game is draw!!\")\n",
    "                    break\n",
    "                else:\n",
    "                    turn = 'Player 1'\n",
    "\n",
    "    if not replay():\n",
    "        break\n",
    "    \n",
    "    \n",
    "    "
   ]
  },
  {
   "cell_type": "code",
   "execution_count": null,
   "metadata": {},
   "outputs": [],
   "source": []
  }
 ],
 "metadata": {
  "kernelspec": {
   "display_name": "Python 3",
   "language": "python",
   "name": "python3"
  },
  "language_info": {
   "codemirror_mode": {
    "name": "ipython",
    "version": 3
   },
   "file_extension": ".py",
   "mimetype": "text/x-python",
   "name": "python",
   "nbconvert_exporter": "python",
   "pygments_lexer": "ipython3",
   "version": "3.8.5"
  }
 },
 "nbformat": 4,
 "nbformat_minor": 4
}
