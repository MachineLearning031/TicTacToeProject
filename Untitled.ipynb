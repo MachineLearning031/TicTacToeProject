{
 "cells": [
  {
   "cell_type": "code",
   "execution_count": null,
   "metadata": {},
   "outputs": [],
   "source": [
    "test_board = [\"a\"]*10\n",
    "test_board\n"
   ]
  },
  {
   "cell_type": "code",
   "execution_count": null,
   "metadata": {},
   "outputs": [],
   "source": [
    "test_board = [\" \"]*10\n",
    "test_board\n",
    "# list containing 10 elements, and all the element are empty strings"
   ]
  },
  {
   "cell_type": "code",
   "execution_count": null,
   "metadata": {},
   "outputs": [],
   "source": [
    "def display(test_board):\n",
    "    print(test_board[7] +\"|\" +test_board[8] +\"|\" +test_board[9])\n",
    "    print(\"-----\")\n",
    "    print(test_board[4] +\"|\" +test_board[5] +\"|\" +test_board[6])\n",
    "    print(\"-----\")\n",
    "    print(test_board[1] +\"|\" +test_board[2] +\"|\" +test_board[3])"
   ]
  },
  {
   "cell_type": "code",
   "execution_count": null,
   "metadata": {},
   "outputs": [],
   "source": [
    "\n",
    "display(test_board)"
   ]
  },
  {
   "cell_type": "code",
   "execution_count": null,
   "metadata": {},
   "outputs": [],
   "source": [
    "test_board = [\"Z\" ,\"A\" ,\"B\", \"C\",\"D\",\"E\",\"F\",\"G\",\"H\",\"I\"]\n",
    "test_board = [\" \"]*10\n",
    "print(test_boardst_board)\n",
    "print(test_board[4])\n"
   ]
  },
  {
   "cell_type": "code",
   "execution_count": null,
   "metadata": {},
   "outputs": [],
   "source": [
    "display(test_board)\n",
    "print(\"\\n\\n\")\n",
    "test_board[4] = 'O'\n",
    "display(test_board)\n",
    "#display(test_board)\n",
    "#display(test_board)\n",
    "#Q - in one complete game, what is the max and min no of times the board will be displayed\n",
    "#(assuming board is displayed after each turn)"
   ]
  },
  {
   "cell_type": "code",
   "execution_count": null,
   "metadata": {},
   "outputs": [],
   "source": [
    "from IPython.display import clear_output\n",
    "\n",
    "def display(test_board):\n",
    "    clear_output()\n",
    "    print(test_board[7] +\"|\" +test_board[8] +\"|\" +test_board[9])\n",
    "    print(test_board[4] +\"|\" +test_board[5] +\"|\" +test_board[6])\n",
    "    print(test_board[1] +\"|\" +test_board[2] +\"|\" +test_board[3])"
   ]
  },
  {
   "cell_type": "code",
   "execution_count": null,
   "metadata": {},
   "outputs": [],
   "source": [
    "display(test_board)\n",
    "display(test_board)\n",
    "display(test_board)\n",
    "display(test_board)"
   ]
  },
  {
   "cell_type": "code",
   "execution_count": null,
   "metadata": {},
   "outputs": [],
   "source": [
    "#return\n",
    "\n",
    "def demo():\n",
    "    a = 5\n",
    "    return a\n",
    "\n",
    "x = demo()\n",
    "x"
   ]
  },
  {
   "cell_type": "code",
   "execution_count": null,
   "metadata": {},
   "outputs": [],
   "source": [
    "\n",
    "def demo():\n",
    "    a = 5\n",
    "    b = 7\n",
    "    return(a ,b)\n",
    "\n",
    "x, y = demo()\n",
    "print(x)\n",
    "print(type(x))\n",
    "#print(y)"
   ]
  },
  {
   "cell_type": "code",
   "execution_count": null,
   "metadata": {},
   "outputs": [],
   "source": [
    "#while loop\n",
    "marker = \"\"\n",
    "\n",
    "while marker != \"X\":\n",
    "    marker = input(\"Enter your choice (X or 0)\")\n",
    "    "
   ]
  },
  {
   "cell_type": "code",
   "execution_count": null,
   "metadata": {},
   "outputs": [],
   "source": [
    "marker = input(\"Enter your choice (X or 0)\")\n",
    "if marker == 'X':\n",
    "    print(\"Player 1\")\n",
    "elif marker == 'O':\n",
    "    print(\"Player 2\")\n",
    "else:\n",
    "    print(\"Wrong Output\")\n",
    "    "
   ]
  },
  {
   "cell_type": "code",
   "execution_count": null,
   "metadata": {},
   "outputs": [],
   "source": [
    "#random\n",
    "import random\n",
    "print(random.randint(0,1))"
   ]
  },
  {
   "cell_type": "code",
   "execution_count": null,
   "metadata": {},
   "outputs": [],
   "source": [
    "# Define a fnx , which takes argument a and return True if a = 5 else return false\n",
    "\n",
    "def demo(a):\n",
    "    if a == 5:\n",
    "        return True\n",
    "    else:\n",
    "        return False"
   ]
  },
  {
   "cell_type": "code",
   "execution_count": null,
   "metadata": {},
   "outputs": [],
   "source": [
    "demo(5)"
   ]
  },
  {
   "cell_type": "code",
   "execution_count": null,
   "metadata": {},
   "outputs": [],
   "source": [
    "def demo(a):\n",
    "    return a == 5"
   ]
  },
  {
   "cell_type": "code",
   "execution_count": null,
   "metadata": {},
   "outputs": [],
   "source": [
    "def arg(x):\n",
    "   if x==5:\n",
    "      return True\n",
    "   else:\n",
    "       return False\n",
    "arg(5)\n",
    "\n"
   ]
  },
  {
   "cell_type": "code",
   "execution_count": null,
   "metadata": {},
   "outputs": [],
   "source": [
    "demo(3)"
   ]
  },
  {
   "cell_type": "code",
   "execution_count": null,
   "metadata": {},
   "outputs": [],
   "source": [
    "demo(5)"
   ]
  },
  {
   "cell_type": "code",
   "execution_count": null,
   "metadata": {},
   "outputs": [],
   "source": [
    "def demo1():\n",
    "    print(\"Inside demo1\")\n",
    "def demo2():\n",
    "    print(\"First line of demo2\")\n",
    "    demo1()\n",
    "    print(\"Second line of Demo2\")\n",
    "    \n",
    "    "
   ]
  },
  {
   "cell_type": "code",
   "execution_count": null,
   "metadata": {},
   "outputs": [],
   "source": [
    "demo2()"
   ]
  },
  {
   "cell_type": "code",
   "execution_count": null,
   "metadata": {},
   "outputs": [],
   "source": []
  },
  {
   "cell_type": "code",
   "execution_count": null,
   "metadata": {},
   "outputs": [],
   "source": []
  },
  {
   "cell_type": "code",
   "execution_count": null,
   "metadata": {},
   "outputs": [],
   "source": []
  },
  {
   "cell_type": "code",
   "execution_count": null,
   "metadata": {},
   "outputs": [],
   "source": []
  },
  {
   "cell_type": "code",
   "execution_count": null,
   "metadata": {},
   "outputs": [],
   "source": []
  },
  {
   "cell_type": "code",
   "execution_count": null,
   "metadata": {},
   "outputs": [],
   "source": []
  },
  {
   "cell_type": "code",
   "execution_count": null,
   "metadata": {},
   "outputs": [],
   "source": []
  },
  {
   "cell_type": "code",
   "execution_count": null,
   "metadata": {},
   "outputs": [],
   "source": []
  },
  {
   "cell_type": "code",
   "execution_count": null,
   "metadata": {},
   "outputs": [],
   "source": []
  },
  {
   "cell_type": "code",
   "execution_count": null,
   "metadata": {},
   "outputs": [],
   "source": []
  },
  {
   "cell_type": "code",
   "execution_count": null,
   "metadata": {},
   "outputs": [],
   "source": []
  },
  {
   "cell_type": "code",
   "execution_count": null,
   "metadata": {},
   "outputs": [],
   "source": []
  },
  {
   "cell_type": "code",
   "execution_count": null,
   "metadata": {},
   "outputs": [],
   "source": []
  },
  {
   "cell_type": "code",
   "execution_count": 1,
   "metadata": {},
   "outputs": [],
   "source": [
    "#1. Create display board\n",
    "from IPython.display import clear_output\n",
    "\n",
    "def display(test_board):\n",
    "    clear_output()\n",
    "    print(test_board[7] +\"|\" +test_board[8] +\"|\" +test_board[9])\n",
    "    print(test_board[4] +\"|\" +test_board[5] +\"|\" +test_board[6])\n",
    "    print(test_board[1] +\"|\" +test_board[2] +\"|\" +test_board[3])"
   ]
  },
  {
   "cell_type": "code",
   "execution_count": 2,
   "metadata": {},
   "outputs": [],
   "source": [
    "#2 Ask from user (O/X)\n",
    "def player_input():\n",
    "    marker = \" \"\n",
    "    \n",
    "    while not(marker == 'X' or marker == 'O'):\n",
    "        marker = input(\"Player 1: Do you want to be X or O\").upper()\n",
    "        \n",
    "    if marker  == 'X':\n",
    "        return('X', 'O')\n",
    "    else:\n",
    "        return('O' , 'X')"
   ]
  },
  {
   "cell_type": "code",
   "execution_count": null,
   "metadata": {},
   "outputs": [],
   "source": []
  },
  {
   "cell_type": "code",
   "execution_count": 3,
   "metadata": {},
   "outputs": [],
   "source": [
    "#3 Decide which player will go first\n",
    "import random\n",
    "def choose_first():\n",
    "    if random.randint(0 ,1) == 0:\n",
    "        return 'Player 2'\n",
    "    else:\n",
    "        return 'Player 1'"
   ]
  },
  {
   "cell_type": "code",
   "execution_count": 4,
   "metadata": {},
   "outputs": [],
   "source": [
    "#4 Take input from user\n",
    "def player_choice(board):\n",
    "    position = 0\n",
    "    while position not in [1, 2, 3, 4, 5, 6, 7, 8, 9] or not space_check(board, position):\n",
    "        position = int(input('Choose your next position : (1-9)'))\n",
    "    return position"
   ]
  },
  {
   "cell_type": "code",
   "execution_count": 5,
   "metadata": {},
   "outputs": [],
   "source": [
    "#5 Fill that input on the board\n",
    "def place_marker(board, marker, position):\n",
    "    board[position] = marker"
   ]
  },
  {
   "cell_type": "code",
   "execution_count": 6,
   "metadata": {},
   "outputs": [],
   "source": [
    "#6 if that space is vacant\n",
    "def space_check(board, position):\n",
    "    return board[position] == ' '"
   ]
  },
  {
   "cell_type": "code",
   "execution_count": 7,
   "metadata": {},
   "outputs": [],
   "source": [
    "#7 Winning goals\n",
    "def win_check(board, mark):\n",
    "    return( (board[7] == mark and board[8] == mark and board[9] == mark)  or#across the top,\n",
    "           (board[4] == mark and board[5] == mark and board[6] == mark) or     #across the middle\n",
    "           (board[1] == mark and board[2] == mark and board[3] == mark) or#across the bottom\n",
    "            (board[7] == mark and board[4] == mark and board[1] == mark) or#dowm the left side\n",
    "            (board[2] == mark and board[8] == mark and board[5] == mark) or#down the middle\n",
    "            (board[3] == mark and board[6] == mark and board[9] == mark) or#down thw right side\n",
    "            (board[7] == mark and board[5] == mark and board[3] == mark) or#2 diagonal\n",
    "             (board[9] == mark and board[5] == mark and board[1] == mark)\n",
    "          )"
   ]
  },
  {
   "cell_type": "code",
   "execution_count": 8,
   "metadata": {},
   "outputs": [],
   "source": [
    "#8 if the board is full\n",
    "def full_board_check(board):\n",
    "    for i in range(1,10):\n",
    "        if space_check(board, i):\n",
    "            return False\n",
    "    return True\n",
    "    "
   ]
  },
  {
   "cell_type": "code",
   "execution_count": 9,
   "metadata": {},
   "outputs": [],
   "source": [
    "#if they want to play it again\n",
    "def replay():\n",
    "    return input('Do you want to play it again(yes or no)').lower().startswith('y')"
   ]
  },
  {
   "cell_type": "code",
   "execution_count": null,
   "metadata": {},
   "outputs": [
    {
     "name": "stdout",
     "output_type": "stream",
     "text": [
      "||\n",
      "||\n",
      "||\n",
      "Choose your next position : (1-9)1\n",
      "Choose your next position : (1-9)2\n",
      "Choose your next position : (1-9)2\n"
     ]
    }
   ],
   "source": [
    "print(\"Welcome to Tic Tac Toe!!\")\n",
    "while True:\n",
    "    theBoard = ['']*10\n",
    "    player1_marker, player2_marker = player_input()\n",
    "    turn = choose_first()\n",
    "    print(turn +' will go first')\n",
    "    \n",
    "    play_game = input(\"Are you ready to play(y or n)\")\n",
    "    \n",
    "    if play_game.lower()[0] == 'y':\n",
    "        game_on = True\n",
    "    else:\n",
    "        game_on = False\n",
    "    \n",
    "    while game_on:\n",
    "        if turn == 'Player 1':\n",
    "            print(\"Player 1's turn\")\n",
    "            display(theBoard)\n",
    "            position = player_choice(theBoard)\n",
    "            place_marker(theBoard, player1_marker, position)\n",
    "            \n",
    "            if win_check(theBoard, player1_marker):\n",
    "                display(theBoard)\n",
    "                print(\"Congratulations!! Player 1 has won the game!\")\n",
    "                game_on = False\n",
    "            else:\n",
    "                if full_board_check(theBoard):\n",
    "                    display(theBoard)\n",
    "                    print(\"The game is draw\")\n",
    "                    break\n",
    "                else:\n",
    "                    turn = 'Player 2'\n",
    "        \n",
    "        else:\n",
    "            print(\"Player 2's turn\")\n",
    "            display(theBoard)\n",
    "            position = player_choice(theBoard)\n",
    "            place_marker(theBoard, player2_marker, position)\n",
    "\n",
    "            if win_check(theBoard, player2_marker):\n",
    "                display(theBoard)\n",
    "                print(\"Congratulations!! Player 2 has won the game!\")\n",
    "                game_on = False\n",
    "            else:\n",
    "                if full_board_check(theBoard):\n",
    "                    display(theBoard)\n",
    "                    print(\"The game is draw\")\n",
    "                    break\n",
    "                else:\n",
    "                    turn = 'Player 1'\n",
    "    if not replay():\n",
    "        break\n",
    "                    \n",
    "                \n",
    "                    \n",
    "            \n",
    "        \n",
    "        \n",
    "                    \n",
    "                \n",
    "                \n",
    "                    \n",
    "            \n",
    "            \n",
    "            \n",
    "    \n",
    "    \n",
    "    "
   ]
  },
  {
   "cell_type": "code",
   "execution_count": null,
   "metadata": {},
   "outputs": [],
   "source": []
  }
 ],
 "metadata": {
  "kernelspec": {
   "display_name": "Python 3",
   "language": "python",
   "name": "python3"
  },
  "language_info": {
   "codemirror_mode": {
    "name": "ipython",
    "version": 3
   },
   "file_extension": ".py",
   "mimetype": "text/x-python",
   "name": "python",
   "nbconvert_exporter": "python",
   "pygments_lexer": "ipython3",
   "version": "3.8.5"
  }
 },
 "nbformat": 4,
 "nbformat_minor": 4
}
